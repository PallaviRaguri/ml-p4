{
 "cells": [
  {
   "cell_type": "markdown",
   "metadata": {},
   "source": [
    "# Project 3: Classification with Logistic Regression and SVM\n",
    "\n",
    "Before we start, please put your name and CUID in following format\n",
    "\n",
    ": Firstname LASTNAME, #00000000   //   e.g. Nianyi LI, #12345678"
   ]
  },
  {
   "cell_type": "markdown",
   "metadata": {},
   "source": [
    "**Your Answer:**   \n",
    "Pallavi RAGURI, #C10370523"
   ]
  },
  {
   "cell_type": "markdown",
   "metadata": {},
   "source": [
    "# General Rules of the Project Submission\n",
    "\n",
    "Python 3 and [Matplotlib](https://matplotlib.org/) will be used throughout the semseter, so it is important to be familiar with them. It is strongly suggested to go through [Stanford CS231n](http://cs231n.github.io/python-numpy-tutorial/) and [CS228](https://github.com/kuleshov/cs228-material/blob/master/tutorials/python/cs228-python-tutorial.ipynb) for more detailed Python and numpy tutorials if you haven't had used Python before. \n",
    "\n",
    "In some cells and files you will see code blocks that look like this:\n",
    "\n",
    "```python\n",
    "##############################################################################\n",
    "#                    TODO: Write the equation for a line                     #\n",
    "##############################################################################\n",
    "pass\n",
    "##############################################################################\n",
    "#                              END OF YOUR CODE                              #\n",
    "##############################################################################\n",
    "```\n",
    "\n",
    "You should replace the `pass` statement with your own code and leave the blocks intact, like this:\n",
    "\n",
    "```python\n",
    "##############################################################################\n",
    "#                    TODO: Write the equation for a line                     #\n",
    "##############################################################################\n",
    "y = m * x + b\n",
    "##############################################################################\n",
    "#                              END OF YOUR CODE                              #\n",
    "##############################################################################\n",
    "```\n",
    "\n",
    "When completing the notebook, please adhere to the following rules:\n",
    "- Do not write or modify any code outside of code blocks\n",
    "- Follow the instruction of the project description carefully\n",
    "- Run all cells before submitting. <span style=\"color:red\">**You will only get credit for code that has been run!**.</span>\n",
    "\n",
    "The last point is extremely important and bears repeating:\n",
    "\n",
    "### We will not re-run your notebook -- <span style=\"color:red\">you will only get credit for cells that have been run</span>\n",
    "\n",
    "### File name\n",
    "Your Python program should be named **yourlastname_yourfirstname_P3.ipynb**, then zip it and upload to Canvas"
   ]
  },
  {
   "cell_type": "markdown",
   "metadata": {},
   "source": [
    "# Project Description\n",
    "\n",
    "For this project we will apply both **Logistic Regression** and **SVM** to predict whether capacitors from a fabrication plant pass quality control based (QC) on two different tests. To train your system and determine its reliability you have a set of 118 examples. The plot of these examples is show below where a red x is a capacitor that failed QC and the green circles represent capacitors that passed QC.\n",
    "\n",
    "<div>\n",
    "<img src=\"https://nianyil.people.clemson.edu/CPSC_4430/P3_new.png\" width=\"500\"/>\n",
    "</div>\n"
   ]
  },
  {
   "cell_type": "markdown",
   "metadata": {},
   "source": [
    "## Data File"
   ]
  },
  {
   "cell_type": "markdown",
   "metadata": {},
   "source": [
    "Two text files with the data is available on Canvas: a training set of 85 examples and a test set of 33 examples. Both are formatted as\n",
    "- First line: **m** and **n**, tab separated\n",
    "- Each line after that has two real numbers representing the results of the two tests, followed by a *1.0* if the capacitor *passed* QC and a *0.0* if it *failed* QC—tab separated.\n",
    "\n",
    "You need to write a code to read data from the file. You **can** use packages, such as **panda**, to load the data.\n"
   ]
  },
  {
   "cell_type": "code",
   "execution_count": 1,
   "metadata": {},
   "outputs": [],
   "source": [
    "##############################################################################\n",
    "#         TODO: Write the code for reading data from file                    #\n",
    "##############################################################################\n",
    "import pandas as pd\n",
    "\n",
    "training_file = \"P3train.txt\"\n",
    "testing_file = \"P3test.txt\"\n",
    "\n",
    "train_data = pd.read_csv(training_file, sep=\"\\t\")  \n",
    "test_data = pd.read_csv(testing_file, sep=\"\\t\")\n",
    "##############################################################################\n",
    "#                              END OF YOUR CODE                              #\n",
    "##############################################################################"
   ]
  },
  {
   "cell_type": "markdown",
   "metadata": {},
   "source": [
    "Your assignment is to use what you have learned from the class slides and homework to create (**from scratch in Python**, not by using Logistic Regression library function!) a **Logistic Regression** and **SVM** binary classifier to predict whether each capacitor in the test set will pass QC. "
   ]
  },
  {
   "cell_type": "markdown",
   "metadata": {},
   "source": [
    "## Logistic Regression"
   ]
  },
  {
   "cell_type": "markdown",
   "metadata": {},
   "source": [
    "You are free to use any model variation and any testing or training approach we have discussed for logistic regression. In particular, since this data is not linear, I assume you will want to add new features based on power of the original two features to create a good decision boundary. $w_0 + w_1x_1 + w_2x_2$ is not going to work!\n",
    "One choice might be\n",
    "- $\\textbf{w}^T \\textbf{x} = w_0 + w_1x_1 + w_2x_2 + w_3x_3 + w_4x_4 + w_5x_5 +w_6x_6 + w_7x_7 + w_8x_8$    where the new features are created as follows:\n",
    "\n",
    "| New Features |From Original Features |\n",
    "| --- | --- |\n",
    "|$x_1$\t| $x_1$|\n",
    "|$x_2$\t| $x_1^2$|\n",
    "|$x_3$\t| $x_2$||\n",
    "|$x_4$\t| $x_1x_2$|\n",
    "|$x_5$\t| $x_1x_2^2$|\n",
    "|$x_6$\t| $x_2^2$|\n",
    "|$x_7$\t| $x_1^2x_2$|\n",
    "|$x_8$\t| $x_1^2x_2^2$|\n",
    "\n",
    "Note that it is easy to create a small Python program that reads in your  original features, uses a nested loop to create the new features and then writes them to a file:\n",
    "\n",
    "```python\n",
    "thePower = 2\n",
    "for j in range(thePower+1): \n",
    "    for i in range(thePower+1):\n",
    "        temp = (x1**i)*(x2**j)\n",
    "        if (temp != 1):\n",
    "            fout1.write(str(temp)+\"\\t\") fout1.write(str(y)+\"\\n\")\n",
    "```\n",
    "\n",
    "With a few additions to the code, you can make a program to create combinations of any powers of $x_1$ and $x_2$!"
   ]
  },
  {
   "cell_type": "code",
   "execution_count": 2,
   "metadata": {},
   "outputs": [
    {
     "name": "stdout",
     "output_type": "stream",
     "text": [
      "Training features shape: (8, 85)\n",
      "Training labels shape: (1, 85)\n",
      "Test features shape: (8, 33)\n",
      "Test labels shape: (1, 33)\n"
     ]
    }
   ],
   "source": [
    "##############################################################################\n",
    "#           TODO: Define the Logistic regression models                      #\n",
    "##############################################################################\n",
    "\n",
    "import numpy as np\n",
    "import pandas as pd\n",
    "\n",
    "def transform_input_data(input_filename):\n",
    "    with open(input_filename) as f:\n",
    "        first_line = f.readline()\n",
    "        dimensions = first_line.split(\"\\t\")\n",
    "        num_samples = int(dimensions[0])\n",
    "        num_features = int(dimensions[1]) + 1\n",
    "        raw_data = np.zeros([num_samples, num_features])\n",
    "        \n",
    "        for i in range(num_samples):\n",
    "            current_line = f.readline()\n",
    "            values = current_line.split(\"\\t\")\n",
    "            for j in range(num_features):\n",
    "                raw_data[i, j] = float(values[j])\n",
    "\n",
    "    output_filename = input_filename.split('.')[0] + \"_processed.txt\"\n",
    "    with open(output_filename, \"w\") as out_file:\n",
    "        degree = 2\n",
    "        for i in range(num_samples):\n",
    "            feat1 = raw_data[i][0]\n",
    "            feat2 = raw_data[i][1] \n",
    "            label = raw_data[i][2]\n",
    "            for k in range(degree + 1):\n",
    "                for m in range(degree + 1):\n",
    "                    term = (feat1**m) * (feat2**k)\n",
    "                    if term != 1:\n",
    "                        out_file.write(str(term) + \"\\t\")\n",
    "            out_file.write(str(label) + \"\\n\")\n",
    "\n",
    "    with open(output_filename, \"r\") as processed_file:\n",
    "        first_line = processed_file.readline()\n",
    "        values = first_line.split(\"\\t\")\n",
    "        expanded_features = num_features + 6\n",
    "        processed_data = np.zeros([num_samples, expanded_features])\n",
    "        for i in range(num_samples - 1):\n",
    "            current_line = processed_file.readline()\n",
    "            values = current_line.split(\"\\t\")\n",
    "            for j in range(expanded_features):\n",
    "                processed_data[i, j] = float(values[j])\n",
    "    \n",
    "    return processed_data\n",
    "\n",
    "train_processed = transform_input_data(training_file)\n",
    "train_df = pd.DataFrame(train_processed, columns=['f1', 'f2', 'f3', 'f4', 'f5', 'f6', 'f7', 'f8', 'target'])\n",
    "X_train_features = train_df.iloc[:, :8]\n",
    "y_train_labels = train_df.iloc[:, 8:]\n",
    "\n",
    "X_train_matrix = X_train_features.values.T\n",
    "y_train_matrix = y_train_labels.values.reshape(1, X_train_matrix.shape[1])\n",
    "\n",
    "test_processed = transform_input_data(testing_file)\n",
    "test_df = pd.DataFrame(test_processed, columns=['f1', 'f2', 'f3', 'f4', 'f5', 'f6', 'f7', 'f8', 'target'])\n",
    "X_test_features = test_df.iloc[:, :8]\n",
    "y_test_labels = test_df.iloc[:, 8:]\n",
    "\n",
    "X_test_matrix = X_test_features.values.T\n",
    "y_test_matrix = y_test_labels.values.reshape(1, X_test_matrix.shape[1])\n",
    "  \n",
    "    \n",
    "print(\"Training features shape:\", X_train_matrix.shape)\n",
    "print(\"Training labels shape:\", y_train_matrix.shape)\n",
    "print(\"Test features shape:\", X_test_matrix.shape)\n",
    "print(\"Test labels shape:\", y_test_matrix.shape)\n",
    "\n",
    "##############################################################################\n",
    "#                              END OF YOUR CODE                              #\n",
    "##############################################################################"
   ]
  },
  {
   "cell_type": "markdown",
   "metadata": {},
   "source": [
    "## Optimization using Gradient Decent"
   ]
  },
  {
   "cell_type": "markdown",
   "metadata": {},
   "source": [
    "Once you have defined the logistic regression model, you need to find the weights using the Gradient Decent algorithm. You need to implement the Vanilla Gradient Decent from scratch in Python.\n",
    "\n",
    "You need to specify the hyperparameters of GD, and plot the training loss curve (**J-curve**). The loss function should be the binary cross-entropy loss function that we introduced."
   ]
  },
  {
   "cell_type": "code",
   "execution_count": 5,
   "metadata": {},
   "outputs": [
    {
     "name": "stdout",
     "output_type": "stream",
     "text": [
      "Iteration 0, Loss: 0.6931471805599454\n",
      "Iteration 500, Loss: 0.5805728821826317\n",
      "Iteration 1000, Loss: 0.5222485802202225\n",
      "Iteration 1500, Loss: 0.48752859748122956\n",
      "Iteration 2000, Loss: 0.46516890283911233\n",
      "Iteration 2500, Loss: 0.4498611680281046\n",
      "Iteration 3000, Loss: 0.43888135586583527\n",
      "Iteration 3500, Loss: 0.430717668509328\n",
      "Iteration 4000, Loss: 0.4244734793361516\n",
      "Iteration 4500, Loss: 0.41958714427902105\n",
      "Iteration 5000, Loss: 0.4156907355686158\n",
      "Iteration 5500, Loss: 0.41253416078745436\n",
      "Iteration 6000, Loss: 0.40994211719804263\n",
      "Iteration 6500, Loss: 0.4077885049532903\n",
      "Iteration 7000, Loss: 0.40598059702609635\n",
      "Iteration 7500, Loss: 0.40444890239852915\n",
      "Iteration 8000, Loss: 0.4031404786647648\n",
      "Iteration 8500, Loss: 0.40201440429230567\n",
      "Iteration 9000, Loss: 0.4010386425397483\n",
      "Iteration 9500, Loss: 0.4001878252140609\n",
      "Iteration 10000, Loss: 0.3994416582683599\n",
      "Iteration 10500, Loss: 0.39878375631926627\n",
      "Iteration 11000, Loss: 0.39820077839656665\n",
      "Iteration 11500, Loss: 0.39768177871525695\n",
      "Iteration 12000, Loss: 0.3972177132077065\n",
      "Iteration 12500, Loss: 0.39680106040731483\n",
      "Iteration 13000, Loss: 0.39642552731603825\n",
      "Iteration 13500, Loss: 0.3960858191421113\n",
      "Iteration 14000, Loss: 0.39577745753724924\n",
      "Iteration 14500, Loss: 0.3954966360136862\n",
      "Iteration 15000, Loss: 0.39524010411540816\n",
      "Iteration 15500, Loss: 0.39500507400977636\n",
      "Iteration 16000, Loss: 0.39478914469426224\n",
      "Iteration 16500, Loss: 0.3945902401413342\n",
      "Iteration 17000, Loss: 0.39440655854532225\n",
      "Iteration 17500, Loss: 0.39423653046719404\n",
      "Iteration 18000, Loss: 0.39407878415234215\n",
      "Iteration 18500, Loss: 0.39393211666255645\n",
      "Iteration 19000, Loss: 0.3937954697450836\n",
      "Iteration 19500, Loss: 0.39366790957999137\n",
      "Iteration 20000, Loss: 0.3935486097173388\n",
      "Iteration 20500, Loss: 0.3934368366492861\n",
      "Iteration 21000, Loss: 0.3933319375677737\n",
      "Iteration 21500, Loss: 0.39323332994212784\n",
      "Iteration 22000, Loss: 0.3931404926177593\n",
      "Iteration 22500, Loss: 0.3930529581906997\n",
      "Iteration 23000, Loss: 0.39297030645587927\n",
      "Iteration 23500, Loss: 0.39289215876198347\n",
      "Iteration 24000, Loss: 0.39281817313411826\n",
      "Iteration 24500, Loss: 0.39274804004868413\n",
      "Iteration 25000, Loss: 0.3926814787638397\n",
      "Iteration 25500, Loss: 0.3926182341245518\n",
      "Iteration 26000, Loss: 0.39255807377410257\n",
      "Iteration 26500, Loss: 0.39250078571459995\n",
      "Iteration 27000, Loss: 0.39244617616789484\n",
      "Iteration 27500, Loss: 0.39239406769569307\n",
      "Iteration 28000, Loss: 0.39234429754382405\n",
      "Iteration 28500, Loss: 0.39229671618080336\n",
      "Iteration 29000, Loss: 0.39225118600516967\n",
      "Iteration 29500, Loss: 0.3922075801997494\n",
      "Iteration 30000, Loss: 0.39216578171409\n",
      "Iteration 30500, Loss: 0.39212568235893513\n",
      "Iteration 31000, Loss: 0.3920871819988293\n",
      "Iteration 31500, Loss: 0.39205018783084944\n",
      "Iteration 32000, Loss: 0.39201461373906027\n",
      "Iteration 32500, Loss: 0.3919803797156849\n",
      "Iteration 33000, Loss: 0.39194741134115496\n",
      "Iteration 33500, Loss: 0.3919156393162238\n",
      "Iteration 34000, Loss: 0.39188499904019863\n",
      "Iteration 34500, Loss: 0.3918554302300965\n"
     ]
    }
   ],
   "source": [
    "##############################################################################\n",
    "#           TODO: Implement the Gradient Decent Algorithm                    #\n",
    "##############################################################################\n",
    "# Define the hyperparameters:\n",
    "# Numbers of epoch (epoch_num), learning rate (lr), and the initial weights(w)\n",
    "import matplotlib.pyplot as plt\n",
    "\n",
    "num_iterations = 35000\n",
    "learning_rate = 0.1\n",
    "loss_history = []\n",
    "initial_weights = np.zeros((X_train_matrix.shape[0], 1))\n",
    "\n",
    "# Define loss function\n",
    "def binary_cross_entropy(predictions, targets):\n",
    "    return -(1 / X_train_matrix.shape[1]) * np.sum(targets * np.log(predictions) + (1-targets) * np.log(1 - predictions))\n",
    "\n",
    "# Define gradient computation\n",
    "def compute_gradient(weights, predictions):\n",
    "    return (1 / X_train_matrix.shape[1]) * np.dot(predictions - y_train_matrix, X_train_matrix.T)\n",
    "\n",
    "# Implement gradient descent optimization\n",
    "def optimize_weights(iterations, learning_rate, weights, loss_history):\n",
    "    bias = 0\n",
    "    for iteration in range(iterations):\n",
    "        # Forward computation\n",
    "        z_values = np.dot(weights.T, X_train_matrix) + bias\n",
    "        predictions = activation_function(z_values)\n",
    "        current_loss = binary_cross_entropy(predictions, y_train_matrix)\n",
    "        \n",
    "        # Update parameters\n",
    "        gradient = compute_gradient(weights, predictions)\n",
    "        weights = weights - learning_rate * gradient.T\n",
    "        bias = bias - learning_rate * (1 / X_train_matrix.shape[1]) * np.sum(predictions - y_train_matrix)\n",
    "        \n",
    "        # Track progress\n",
    "        loss_history.append(current_loss)\n",
    "        if iteration % 500 == 0:\n",
    "            print(f\"Iteration {iteration}, Loss: {current_loss}\")\n",
    "    \n",
    "    return weights, loss_history, bias\n",
    "\n",
    "def activation_function(x):\n",
    "    return 1 / (1 + np.exp(-x))\n",
    "\n",
    "optimized_weights, loss_history, bias = optimize_weights(num_iterations, learning_rate, initial_weights, loss_history)\n",
    "\n",
    "##############################################################################\n",
    "#                              END OF YOUR CODE                              #\n",
    "##############################################################################"
   ]
  },
  {
   "cell_type": "markdown",
   "metadata": {},
   "source": [
    "Next, print out the final weights and plot the **J-curve/Loss curve** of training. "
   ]
  },
  {
   "cell_type": "code",
   "execution_count": 6,
   "metadata": {},
   "outputs": [
    {
     "name": "stdout",
     "output_type": "stream",
     "text": [
      "Optimized weights:\n",
      "[[ 1.72350222]\n",
      " [-8.81327051]\n",
      " [ 3.39912608]\n",
      " [-7.36824022]\n",
      " [-1.20353708]\n",
      " [-8.35773084]\n",
      " [ 3.07080967]\n",
      " [-3.117749  ]]\n"
     ]
    },
    {
     "data": {
      "image/png": "[encoded data removed]",
      "text/plain": [
       "<Figure size 1000x600 with 1 Axes>"
      ]
     },
     "metadata": {},
     "output_type": "display_data"
    }
   ],
   "source": [
    "# Display final model parameters\n",
    "print(\"Optimized weights:\")\n",
    "print(optimized_weights)\n",
    "\n",
    "# Plot learning curve\n",
    "plt.figure(figsize=(10, 6))\n",
    "plt.plot(loss_history)\n",
    "plt.xlabel('Training Epochs')\n",
    "plt.ylabel('Loss Value')\n",
    "plt.title('Learning Curve')\n",
    "plt.grid(True)\n",
    "plt.show()\n",
    "##############################################################################\n",
    "#                              END OF YOUR CODE                              #\n",
    "##############################################################################"
   ]
  },
  {
   "cell_type": "markdown",
   "metadata": {},
   "source": [
    "Based on your data and plot, you should then briefly discuss how you can ensure that the model is well trained.\n",
    "\n",
    "**Your Answer:**  The model was trained for 35,000 epochs with a learning rate set at 0.1. The graph illustrates that the loss consistently decreased as the number of epochs increased, ultimately stabilizing at the conclusion of the training period. This indicates that the model has been trained successfully."
   ]
  },
  {
   "cell_type": "markdown",
   "metadata": {},
   "source": [
    "## Model Evaluation"
   ]
  },
  {
   "cell_type": "markdown",
   "metadata": {},
   "source": [
    "Evaluate the performance on testing set:\n",
    "- Print out the confusion matrix\n",
    "- Calculate and print out the *accuracy*, *precision*, *recall*, and *F1* value of your model\n",
    "\n",
    "**Note that:**\n",
    "- For **undergrads** *(CPSC 4430)* the final accuracy of both algorithms on your test set should be higher than  <span style=\"color:red\">**70%**</span>\n",
    "- For **graduate-level** *(CPSC 6430)* the final accuracy of both algorithms on your test set should be higher than  <span style=\"color:red\">**85%**</span>\n"
   ]
  },
  {
   "cell_type": "code",
   "execution_count": 7,
   "metadata": {},
   "outputs": [
    {
     "name": "stdout",
     "output_type": "stream",
     "text": [
      "(1, 8)\n",
      "(8, 33)\n",
      "            True Class 1 True Class 0\n",
      "Predicted 1           15            3\n",
      "Predicted 0            1           14\n",
      "Model Accuracy: 87.88%\n",
      "Model Precision: 83.33%\n",
      "Model Recall: 93.75%\n",
      "Model F1 Score: 88.24%\n"
     ]
    }
   ],
   "source": [
    "##############################################################################\n",
    "#                           TODO: Model Evaluation                           #\n",
    "##############################################################################\n",
    "\n",
    "import numpy as np\n",
    "\n",
    "print(optimized_weights.T.shape)\n",
    "print(X_test_matrix.shape)\n",
    "\n",
    "y_test_matrix = y_test_matrix.T\n",
    "test_predictions = np.array(activation_function(np.dot(optimized_weights.T, X_test_matrix)+bias)>0.5, dtype='int64').T\n",
    "\n",
    "with open('P3test.txt', 'r') as test_file:\n",
    "    sample_count = int(test_file.readline().split('\\t')[0])\n",
    "\n",
    "true_pos, true_neg, false_pos, false_neg = 0, 0, 0, 0\n",
    "\n",
    "for actual, predicted in zip(y_test_matrix, test_predictions):\n",
    "    if actual == 0 and predicted == 1:\n",
    "        false_pos += 1\n",
    "    elif actual == 1 and predicted == 0:\n",
    "        false_neg += 1\n",
    "    elif actual == 1 and predicted == 1:\n",
    "        true_pos += 1\n",
    "    else:\n",
    "        true_neg += 1\n",
    "        \n",
    "results = pd.DataFrame(columns = ['True Class 1', 'True Class 0'])\n",
    "results.loc['Predicted 1', 'True Class 1'] = true_pos\n",
    "results.loc['Predicted 0', 'True Class 0'] = true_neg\n",
    "results.loc['Predicted 1', 'True Class 0'] = false_pos\n",
    "results.loc['Predicted 0', 'True Class 1'] = false_neg\n",
    "print(results)\n",
    "\n",
    "model_accuracy = (true_pos+true_neg)/(true_pos+true_neg+false_pos+false_neg)\n",
    "model_precision = (true_pos/(true_pos+false_pos))\n",
    "model_recall = (true_pos/(true_pos+false_neg))\n",
    "model_f1 = 2*(1/((1/model_precision) + (1/model_recall)))\n",
    "\n",
    "X_test_copy = X_test_matrix\n",
    "y_test_copy = y_test_matrix\n",
    "\n",
    "print(f\"Model Accuracy: {model_accuracy*100:.2f}%\")\n",
    "print(f\"Model Precision: {model_precision*100:.2f}%\")\n",
    "print(f\"Model Recall: {model_recall*100:.2f}%\")\n",
    "print(f\"Model F1 Score: {model_f1*100:.2f}%\")\n",
    "\n",
    "##############################################################################\n",
    "#                              END OF YOUR CODE                              #\n",
    "##############################################################################"
   ]
  },
  {
   "cell_type": "markdown",
   "metadata": {},
   "source": [
    "## Support Vector Machine (SVM)"
   ]
  },
  {
   "cell_type": "markdown",
   "metadata": {},
   "source": [
    "In this part, you need to use the previous training and testing data file. \n",
    "\n",
    "You are **allowed** to use the svm functions in the **Scikit-learn** library and don’t need to implement the algorithm from scratch.\n",
    "\n",
    "- You need to try at least **three** different kernel functions of SVM, and pick the **best** model.\n",
    "- You need to print out the final weights got from your best SVM model.\n",
    "\n",
    "**Note that:**\n",
    "- For **undergrads** *(CPSC 4430)* the final accuracy of both algorithms on your test set should be higher than  <span style=\"color:red\">**70%**</span>\n",
    "- For **graduate-level** *(CPSC 6430)* the final accuracy of both algorithms on your test set should be higher than  <span style=\"color:red\">**85%**</span>"
   ]
  },
  {
   "cell_type": "code",
   "execution_count": 8,
   "metadata": {},
   "outputs": [
    {
     "name": "stdout",
     "output_type": "stream",
     "text": [
      "0.5757575757575758\n",
      "0.5151515151515151\n",
      "0.8787878787878788\n",
      "\n",
      "Linear SVM Accuracy: 57.58%\n",
      "Polynomial SVM Accuracy: 51.52%\n",
      "RBF SVM Accuracy: 87.88%\n",
      "\n",
      "Most Effective Model: RBF SVM\n",
      "\n",
      "Model Parameters: [[ 0.58728139 -2.47243003]]\n",
      "\n",
      "Confusion Matrix Results:\n",
      "[[14  3]\n",
      " [ 1 15]]\n"
     ]
    }
   ],
   "source": [
    "##############################################################################\n",
    "#                      TODO: Classfication using SVM                         #\n",
    "##############################################################################\n",
    "\n",
    "import numpy as np\n",
    "from sklearn import svm\n",
    "from sklearn.metrics import confusion_matrix\n",
    "from sklearn.preprocessing import StandardScaler\n",
    "from sklearn.metrics import accuracy_score\n",
    "from sklearn.model_selection import GridSearchCV\n",
    "\n",
    "\n",
    "training_data = np.loadtxt('P3train.txt', delimiter='\\t', skiprows=1)\n",
    "testing_data = np.loadtxt('P3test.txt', delimiter='\\t', skiprows=1)\n",
    "\n",
    "train_features = training_data[:, :-1]\n",
    "train_labels = training_data[:, -1]\n",
    "test_features = testing_data[:, :-1]\n",
    "test_labels = testing_data[:, -1]\n",
    "\n",
    "feature_scaler = StandardScaler()\n",
    "train_features = feature_scaler.fit_transform(train_features)\n",
    "test_features = feature_scaler.transform(test_features)\n",
    "\n",
    "linear_model = svm.SVC(kernel='linear', C=10, gamma=0.1)\n",
    "polynomial_model = svm.SVC(kernel='poly', C=10, gamma=0.1)\n",
    "rbf_model = svm.SVC(kernel='rbf', C=10, gamma=0.1)\n",
    "\n",
    "linear_model.fit(train_features, train_labels)\n",
    "polynomial_model.fit(train_features, train_labels)\n",
    "rbf_model.fit(train_features, train_labels)\n",
    "\n",
    "linear_predictions = linear_model.predict(test_features)\n",
    "polynomial_predictions = polynomial_model.predict(test_features)\n",
    "rbf_predictions = rbf_model.predict(test_features)\n",
    "\n",
    "linear_accuracy = accuracy_score(test_labels, linear_predictions)\n",
    "polynomial_accuracy = accuracy_score(test_labels, polynomial_predictions)\n",
    "rbf_accuracy = accuracy_score(test_labels, rbf_predictions)\n",
    "\n",
    "\n",
    "print(linear_accuracy)\n",
    "print(polynomial_accuracy)\n",
    "print(rbf_accuracy)\n",
    "print()\n",
    "print(f\"Linear SVM Accuracy: {linear_accuracy*100:.2f}%\")\n",
    "print(f\"Polynomial SVM Accuracy: {polynomial_accuracy*100:.2f}%\")\n",
    "print(f\"RBF SVM Accuracy: {rbf_accuracy*100:.2f}%\")\n",
    "\n",
    "model_comparison = [(linear_model, linear_accuracy, \"Linear SVM\"), \n",
    "                   (polynomial_model, polynomial_accuracy, \"Polynomial SVM\"), \n",
    "                   (rbf_model, rbf_accuracy, \"RBF SVM\")]\n",
    "top_model, top_accuracy, top_type = max(model_comparison, key=lambda x:x[1])\n",
    "\n",
    "print()\n",
    "print(\"Most Effective Model:\", top_type)\n",
    "\n",
    "print()\n",
    "print(\"Model Parameters:\", np.dot(top_model.dual_coef_, top_model.support_vectors_))\n",
    "\n",
    "print()\n",
    "confusion_mat = confusion_matrix(test_labels, rbf_predictions)\n",
    "print(\"Confusion Matrix Results:\")\n",
    "print(confusion_mat)\n",
    "\n",
    "##############################################################################\n",
    "#                              END OF YOUR CODE                              #\n",
    "##############################################################################"
   ]
  },
  {
   "cell_type": "markdown",
   "metadata": {},
   "source": [
    "## Visualize Decision Boundary and Model Comparision"
   ]
  },
  {
   "cell_type": "markdown",
   "metadata": {},
   "source": [
    "You need to plot the decision boundary of Logistic Regression and SVM that you previously trained separately. "
   ]
  },
  {
   "cell_type": "code",
   "execution_count": 9,
   "metadata": {},
   "outputs": [
    {
     "data": {
      "image/png": "[encoded data removed]",
      "text/plain": [
       "<Figure size 640x480 with 1 Axes>"
      ]
     },
     "metadata": {},
     "output_type": "display_data"
    },
    {
     "data": {
      "image/png": "[encoded data removed]",
      "text/plain": [
       "<Figure size 640x480 with 1 Axes>"
      ]
     },
     "metadata": {},
     "output_type": "display_data"
    }
   ],
   "source": [
    "##############################################################################\n",
    "#                   TODO: Plot the Decision Boundary                         #\n",
    "##############################################################################\n",
    "\n",
    "from matplotlib.colors import ListedColormap\n",
    "import numpy as np\n",
    "import pandas as pd\n",
    "import matplotlib.pyplot as plt\n",
    "\n",
    "def plot_logistic_boundary(X_test, Y_test, weights, bias):\n",
    "    X1, X2 = np.meshgrid(np.arange(start=X_test[0, :].min() - 0.1, stop=X_test[0, :].max() + 0.1, step=0.01),\n",
    "                         np.arange(start=X_test[1, :].min() - 0.1, stop=X_test[1, :].max() + 0.1, step=0.01))\n",
    "    # Your plotting logic here...\n",
    "\n",
    "# Feature engineering function for visualization\n",
    "def engineer_features(dataset):\n",
    "    num_samples = dataset.shape[0]\n",
    "    num_features = 8\n",
    "    engineered_data = np.zeros([num_samples, num_features])\n",
    "    \n",
    "    engineered_data[:, 0:2] = dataset[:, 0:2]\n",
    "    engineered_data[:, 2] = dataset[:, 0]**2\n",
    "    engineered_data[:, 3] = dataset[:, 1]**2\n",
    "    engineered_data[:, 4] = dataset[:, 0] * dataset[:, 1]\n",
    "    engineered_data[:, 5] = dataset[:, 0]**3\n",
    "    engineered_data[:, 6] = dataset[:, 1]**3\n",
    "    engineered_data[:, 7] = dataset[:, 0]**2 * dataset[:, 1]\n",
    "\n",
    "    return engineered_data\n",
    "\n",
    "# Example data and model setup (assuming these variables are defined)\n",
    "feature_set, label_set = feature_scaler.inverse_transform(test_features), test_labels\n",
    "X1, X2 = np.meshgrid(np.arange(start=feature_set[:, 0].min() - 0.01, stop=feature_set[:, 0].max() + 0.01, step=0.1), \n",
    "                     np.arange(start=feature_set[:, 1].min() - 0.01, stop=feature_set[:, 1].max() + 0.01, step=0.1))\n",
    "\n",
    "# Calculate RBF SVM accuracy\n",
    "rbf_predictions = rbf_model.predict(test_features)\n",
    "rbf_accuracy = np.mean(rbf_predictions == test_labels) * 100\n",
    "\n",
    "# Decision boundary plot\n",
    "plt.contourf(X1, X2, \n",
    "             rbf_model.predict(feature_scaler.transform(np.array([X1.ravel(), X2.ravel()]).T)).reshape(X1.shape), \n",
    "             alpha=0.75, cmap=ListedColormap(['#DAB1DA', '#FFFFC5']))\n",
    "plt.xlim(X1.min(), X1.max())\n",
    "plt.ylim(X2.min(), X2.max())\n",
    "for i, j in enumerate(np.unique(label_set)):\n",
    "    plt.scatter(feature_set[label_set == j, 0], feature_set[label_set == j, 1], \n",
    "                color=ListedColormap(['#FF0000', '#00FF00'])(i), label=f'Class {j}')\n",
    "plt.title(f'RBF SVM Decision Boundary (Accuracy: {rbf_accuracy:.2f}%)')\n",
    "plt.xlabel('First Feature')\n",
    "plt.ylabel('Second Feature')\n",
    "plt.legend()\n",
    "plt.show()\n",
    "\n",
    "# Logistic regression decision boundary plot\n",
    "X1, X2 = np.meshgrid(np.arange(start=test_features[:, 0].min() - 0.01, stop=test_features[:, 0].max() + 0.01, step=0.1), \n",
    "                     np.arange(start=test_features[:, 1].min() - 0.01, stop=test_features[:, 1].max() + 0.01, step=0.1))\n",
    "\n",
    "visualization_data = engineer_features(np.column_stack([X1.ravel(), X2.ravel()]))\n",
    "data_frame = pd.DataFrame(visualization_data, columns=['f1', 'f2', 'f3', 'f4', 'f5', 'f6', 'f7', 'f8'])\n",
    "features = data_frame.iloc[:, :8]\n",
    "feature_matrix = features.values.T\n",
    "boundary = np.array(activation_function(np.dot(optimized_weights.T, feature_matrix) + bias) > 0.5, dtype='int64').reshape(X1.shape)\n",
    "\n",
    "# Calculate logistic regression accuracy\n",
    "logistic_predictions = (activation_function(np.dot(optimized_weights.T, X_test_copy) + bias) > 0.5).astype(int)\n",
    "logistic_accuracy = np.mean(logistic_predictions.flatten() == y_test_matrix.flatten()) * 100\n",
    "\n",
    "plt.contourf(X1, X2, boundary, alpha=0.75, cmap=ListedColormap(['#DAB1DA', '#FFFFC5']))\n",
    "plt.xlim(X1.min(), X1.max())\n",
    "plt.ylim(X2.min(), X2.max())\n",
    "\n",
    "test_features_transposed = X_test_copy.T\n",
    "test_labels_flat = y_test_matrix.ravel()\n",
    "\n",
    "for i, j in enumerate(np.unique(test_labels_flat)):\n",
    "    plt.scatter(test_features_transposed[:, 0][test_labels_flat == j], \n",
    "                test_features_transposed[:, 1][test_labels_flat == j], \n",
    "                color=ListedColormap(['#FF0000', '#00FF00'])(i), label=f'Class {j}')\n",
    "plt.title(f'Logistic Regression Decision Boundary (Accuracy: {logistic_accuracy:.2f}%)')\n",
    "plt.xlabel('First Feature')\n",
    "plt.ylabel('Second Feature')\n",
    "plt.legend()\n",
    "plt.show()\n",
    "\n",
    "##############################################################################\n",
    "#                              END OF YOUR CODE                              #\n",
    "##############################################################################"
   ]
  },
  {
   "cell_type": "markdown",
   "metadata": {},
   "source": [
    "Based on your data and plot, you should then briefly discuss which one has better performance and why.\n",
    "\n",
    "**Your Answer:**  Although the accuracy levels of the logistic regression and SVM with RBF kernel models are equal, the graphical display indicates that the SVM with RBF kernel provides a better seperation between the two classes than the logistic regression model. The SVM contour plot indicates a clearer seperation between model, suggesting that the SVM with RBF kernel is a better fit for this dataset."
   ]
  },
  {
   "cell_type": "code",
   "execution_count": null,
   "metadata": {},
   "outputs": [],
   "source": []
  }
 ],
 "metadata": {
  "kernelspec": {
   "display_name": "Python 3 (ipykernel)",
   "language": "python",
   "name": "python3"
  },
  "language_info": {
   "codemirror_mode": {
    "name": "ipython",
    "version": 3
   },
   "file_extension": ".py",
   "mimetype": "text/x-python",
   "name": "python",
   "nbconvert_exporter": "python",
   "pygments_lexer": "ipython3",
   "version": "3.11.5"
  }
 },
 "nbformat": 4,
 "nbformat_minor": 4
}
